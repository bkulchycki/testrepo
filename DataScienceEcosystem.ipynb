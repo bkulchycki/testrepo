{
 "cells": [
  {
   "cell_type": "markdown",
   "id": "e9302963-b71a-4fa7-a67d-0ee6a8e4677e",
   "metadata": {},
   "source": [
    "# Data Science Tools and Ecosystem"
   ]
  },
  {
   "cell_type": "markdown",
   "id": "91e273a8-fb34-43bc-a93d-09bcd51579cb",
   "metadata": {},
   "source": [
    "## In this notebook, Data Science Tools and Ecosystem are summarized."
   ]
  },
  {
   "cell_type": "markdown",
   "id": "9d1d4707-0d17-4583-ab4d-efb25b0bab87",
   "metadata": {},
   "source": [
    "**Objectives:**\n",
    "- List Popular Languages of Data Science\n",
    "- List Common Libraries used in Data Science\n",
    "- Create an ordered list\n",
    "- Create a table\n",
    "- Use arithmetic in code"
   ]
  },
  {
   "cell_type": "markdown",
   "id": "d73ee81d-978f-4bca-9efb-35bf76fa4251",
   "metadata": {},
   "source": [
    "## Some of the popular languages that data science uses are:\n",
    "1. Python\n",
    "2. R\n",
    "3. Java\n",
    "4. Julia"
   ]
  },
  {
   "cell_type": "markdown",
   "id": "39e2b6ea-a9b3-4aff-8db1-d49539fa3bf9",
   "metadata": {},
   "source": [
    "## Some of the commonly used libraries used by Data Scientists include:\n",
    "1. NumPy\n",
    "2. Pandas\n",
    "3. Matplotlib"
   ]
  },
  {
   "cell_type": "markdown",
   "id": "5b040be6-fab9-406e-b9f3-4f78047605f2",
   "metadata": {},
   "source": [
    "|Data Science Tools|\n",
    "|------------------|\n",
    "|TensorFlow|\n",
    "|RStudio|\n",
    "|GitHub|\n"
   ]
  },
  {
   "cell_type": "markdown",
   "id": "0e0c5677-aac9-4a88-9d7d-d871d332182b",
   "metadata": {},
   "source": [
    "### Below are a few examples of evaluating arithmetic expressions in Python"
   ]
  },
  {
   "cell_type": "code",
   "execution_count": 6,
   "id": "64d3893e-00d2-4750-9a6c-d507c45d5491",
   "metadata": {},
   "outputs": [
    {
     "data": {
      "text/plain": [
       "17"
      ]
     },
     "execution_count": 6,
     "metadata": {},
     "output_type": "execute_result"
    }
   ],
   "source": [
    "# This a simple arithmetic expression to mutiply then add integers\n",
    "(3*4)+5"
   ]
  },
  {
   "cell_type": "code",
   "execution_count": 7,
   "id": "bf1417a1-b4ea-499f-8e03-cc16a1556830",
   "metadata": {},
   "outputs": [
    {
     "data": {
      "text/plain": [
       "3.3333333333333335"
      ]
     },
     "execution_count": 7,
     "metadata": {},
     "output_type": "execute_result"
    }
   ],
   "source": [
    "# This will convert 200 minutes to hours by diving by 60\n",
    "200/60"
   ]
  },
  {
   "cell_type": "markdown",
   "id": "f7798515-43f3-4ce0-b749-a0f2ab6ae358",
   "metadata": {},
   "source": [
    "## Author\n",
    "Brian Kulchycki"
   ]
  },
  {
   "cell_type": "code",
   "execution_count": null,
   "id": "99d971d1-799f-4604-a26a-66c54fcaff71",
   "metadata": {},
   "outputs": [],
   "source": []
  }
 ],
 "metadata": {
  "kernelspec": {
   "display_name": "Python 3 (ipykernel)",
   "language": "python",
   "name": "python3"
  },
  "language_info": {
   "codemirror_mode": {
    "name": "ipython",
    "version": 3
   },
   "file_extension": ".py",
   "mimetype": "text/x-python",
   "name": "python",
   "nbconvert_exporter": "python",
   "pygments_lexer": "ipython3",
   "version": "3.12.8"
  }
 },
 "nbformat": 4,
 "nbformat_minor": 5
}
